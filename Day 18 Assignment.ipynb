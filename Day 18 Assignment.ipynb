{
 "cells": [
  {
   "cell_type": "markdown",
   "metadata": {},
   "source": [
    "# Write a program to find the given string in the root directory that contains a text file"
   ]
  },
  {
   "cell_type": "code",
   "execution_count": 8,
   "metadata": {},
   "outputs": [
    {
     "name": "stdout",
     "output_type": "stream",
     "text": [
      "C:\\Users\\Dell\\LetsUpgradePython\\B7 PythonEssentials  Day 6 Assignment 6.ipynb\n",
      "C:\\Users\\Dell\\LetsUpgradePython\\Batch7 PythonEssentials Assignment Day 2.ipynb\n",
      "C:\\Users\\Dell\\LetsUpgradePython\\Batch7 PythonEssentials Day3 Assignment 2.ipynb\n",
      "C:\\Users\\Dell\\LetsUpgradePython\\Batch7 PythonEssentials Day4 Assignment4.ipynb\n",
      "C:\\Users\\Dell\\LetsUpgradePython\\Batch7 PythonEssentials Day5 Assignment5.ipynb\n",
      "C:\\Users\\Dell\\LetsUpgradePython\\Batch7 PythonEssentials Day8 Assignment1 .ipynb\n",
      "C:\\Users\\Dell\\LetsUpgradePython\\Batch7 PythonEssentials Day9 Assignment9.ipynb\n",
      "C:\\Users\\Dell\\LetsUpgradePython\\checkprime.py\n",
      "C:\\Users\\Dell\\LetsUpgradePython\\exc.ini\n",
      "C:\\Users\\Dell\\LetsUpgradePython\\myfile.text\n",
      "C:\\Users\\Dell\\LetsUpgradePython\\RoughPractice All programs of Python.ipynb\n",
      "C:\\Users\\Dell\\LetsUpgradePython\\Untitled.ipynb\n",
      "C:\\Users\\Dell\\LetsUpgradePython\\Untitled1.ipynb\n",
      "C:\\Users\\Dell\\LetsUpgradePython\\.ipynb_checkpoints\\B7 PythonEssentials  Day 6 Assignment 6-checkpoint.ipynb\n",
      "C:\\Users\\Dell\\LetsUpgradePython\\.ipynb_checkpoints\\Batch7 PythonEssentials Assignment Day 2-checkpoint.ipynb\n",
      "C:\\Users\\Dell\\LetsUpgradePython\\.ipynb_checkpoints\\Batch7 PythonEssentials Day3 Assignment 2-checkpoint.ipynb\n",
      "C:\\Users\\Dell\\LetsUpgradePython\\.ipynb_checkpoints\\Batch7 PythonEssentials Day4 Assignment4-checkpoint.ipynb\n",
      "C:\\Users\\Dell\\LetsUpgradePython\\.ipynb_checkpoints\\Batch7 PythonEssentials Day5 Assignment5-checkpoint.ipynb\n",
      "C:\\Users\\Dell\\LetsUpgradePython\\.ipynb_checkpoints\\Batch7 PythonEssentials Day8 Assignment1 -checkpoint.ipynb\n",
      "C:\\Users\\Dell\\LetsUpgradePython\\.ipynb_checkpoints\\Batch7 PythonEssentials Day9 Assignment9-checkpoint.ipynb\n",
      "C:\\Users\\Dell\\LetsUpgradePython\\.ipynb_checkpoints\\RoughPractice All programs of Python-checkpoint.ipynb\n",
      "C:\\Users\\Dell\\LetsUpgradePython\\.ipynb_checkpoints\\Untitled-checkpoint.ipynb\n",
      "C:\\Users\\Dell\\LetsUpgradePython\\.ipynb_checkpoints\\Untitled1-checkpoint.ipynb\n",
      "C:\\Users\\Dell\\LetsUpgradePython\\Advanced Pyhon and Django\\AdvancedPython Day3 Assignment1.ipynb\n",
      "C:\\Users\\Dell\\LetsUpgradePython\\Advanced Pyhon and Django\\Assignment Day 7 .ipynb\n",
      "C:\\Users\\Dell\\LetsUpgradePython\\Advanced Pyhon and Django\\Day 10 Assignment.ipynb\n",
      "C:\\Users\\Dell\\LetsUpgradePython\\Advanced Pyhon and Django\\Day 13 Assignment - Q2.ipynb\n",
      "C:\\Users\\Dell\\LetsUpgradePython\\Advanced Pyhon and Django\\Day 16 Assignment.ipynb\n",
      "C:\\Users\\Dell\\LetsUpgradePython\\Advanced Pyhon and Django\\Day 18 Assignment.ipynb\n",
      "C:\\Users\\Dell\\LetsUpgradePython\\Advanced Pyhon and Django\\Day 27 Assignment-12.ipynb\n",
      "C:\\Users\\Dell\\LetsUpgradePython\\Advanced Pyhon and Django\\Day 28 Assignment.ipynb\n",
      "C:\\Users\\Dell\\LetsUpgradePython\\Advanced Pyhon and Django\\Day 9 Assignment.ipynb\n",
      "C:\\Users\\Dell\\LetsUpgradePython\\Advanced Pyhon and Django\\HYDRA- Assignment Day 5.ipynb\n",
      "C:\\Users\\Dell\\LetsUpgradePython\\Advanced Pyhon and Django\\.ipynb_checkpoints\\AdvancedPython Day3 Assignment1-checkpoint.ipynb\n",
      "C:\\Users\\Dell\\LetsUpgradePython\\Advanced Pyhon and Django\\.ipynb_checkpoints\\Assignment Day 7 -checkpoint.ipynb\n",
      "C:\\Users\\Dell\\LetsUpgradePython\\Advanced Pyhon and Django\\.ipynb_checkpoints\\Day 10 Assignment-checkpoint.ipynb\n",
      "C:\\Users\\Dell\\LetsUpgradePython\\Advanced Pyhon and Django\\.ipynb_checkpoints\\Day 13 Assignment - Q2-checkpoint.ipynb\n",
      "C:\\Users\\Dell\\LetsUpgradePython\\Advanced Pyhon and Django\\.ipynb_checkpoints\\Day 16 Assignment-checkpoint.ipynb\n",
      "C:\\Users\\Dell\\LetsUpgradePython\\Advanced Pyhon and Django\\.ipynb_checkpoints\\Day 18 Assignment-checkpoint.ipynb\n",
      "C:\\Users\\Dell\\LetsUpgradePython\\Advanced Pyhon and Django\\.ipynb_checkpoints\\Day 27 Assignment-12-checkpoint.ipynb\n",
      "C:\\Users\\Dell\\LetsUpgradePython\\Advanced Pyhon and Django\\.ipynb_checkpoints\\Day 28 Assignment-checkpoint.ipynb\n",
      "C:\\Users\\Dell\\LetsUpgradePython\\Advanced Pyhon and Django\\.ipynb_checkpoints\\Day 9 Assignment-checkpoint.ipynb\n",
      "C:\\Users\\Dell\\LetsUpgradePython\\Advanced Pyhon and Django\\.ipynb_checkpoints\\HYDRA- Assignment Day 5-checkpoint.ipynb\n",
      "C:\\Users\\Dell\\LetsUpgradePython\\__pycache__\\checkprime.cpython-38.pyc\n"
     ]
    }
   ],
   "source": [
    "import os\n",
    "root=\"C:\\\\Users\\\\Dell\\LetsUpgradePython\"\n",
    "for root,dir,files in os.walk(root):\n",
    "    for f in files:\n",
    "        path=root+\"\\\\\"+f\n",
    "        print(path)\n",
    "\n",
    "def check_string_in_file(f, string_to_search):\n",
    "    with open(file_name, 'r') as read_obj:\n",
    "        for line in read_obj:\n",
    "            if string_to_search in line:\n",
    "                return True\n",
    "    return False\n",
    "    with open(f) as myFile:\n",
    "        for num, line in enumerate(myFile, 1):\n",
    "             if lookup in line:\n",
    "                    print('found at line:', num)"
   ]
  },
  {
   "cell_type": "code",
   "execution_count": null,
   "metadata": {},
   "outputs": [],
   "source": []
  }
 ],
 "metadata": {
  "kernelspec": {
   "display_name": "Python 3",
   "language": "python",
   "name": "python3"
  },
  "language_info": {
   "codemirror_mode": {
    "name": "ipython",
    "version": 3
   },
   "file_extension": ".py",
   "mimetype": "text/x-python",
   "name": "python",
   "nbconvert_exporter": "python",
   "pygments_lexer": "ipython3",
   "version": "3.8.3"
  }
 },
 "nbformat": 4,
 "nbformat_minor": 4
}
