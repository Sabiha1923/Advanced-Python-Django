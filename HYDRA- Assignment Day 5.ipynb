{
 "cells": [
  {
   "cell_type": "code",
   "execution_count": 18,
   "metadata": {},
   "outputs": [
    {
     "name": "stdout",
     "output_type": "stream",
     "text": [
      "{'Nick Fury': 'Tony Stark,Maria Hill,Norman Osborn', 'Hulk': 'Tony Stark,HawkEye,Rogers', 'Rogers': 'Thor', 'Tony Stark': 'Pepper Potts,Nick Fury', 'Agent-13': 'Agent-X,Nick Fury,Hitler', 'Thor': 'HawkEye,Black Widow', 'Black Widow': 'HawkEye', 'Maria Hill': 'Hulk,Rogers,Nick Fury', 'Agent-X': 'Agent-13,Rogers', 'Norman Osborn': 'Tony Stark,Thor'} \n",
      "\n"
     ]
    }
   ],
   "source": [
    "d1={'Nick Fury': 'Tony Stark,Maria Hill,Norman Osborn','Hulk':'Tony Stark,HawkEye,Rogers',\n",
    "        'Rogers':'Thor','Tony Stark':'Pepper Potts,Nick Fury','Agent-13':'Agent-X,Nick Fury,Hitler',\n",
    "        'Thor':'HawkEye,Black Widow','Black Widow':'HawkEye',\n",
    "        'Maria Hill':\"Hulk,Rogers,Nick Fury\",'Agent-X':\"Agent-13,Rogers\", 'Norman Osborn': \"Tony Stark,Thor\"}\n",
    "print(d1,'\\n')\n"
   ]
  },
  {
   "cell_type": "code",
   "execution_count": 19,
   "metadata": {},
   "outputs": [
    {
     "name": "stdout",
     "output_type": "stream",
     "text": [
      "{'Hitler', 'Agent-13', 'Agent-X'}\n"
     ]
    }
   ],
   "source": [
    "value=[]\n",
    "l1=list(d1.keys())\n",
    "l2=list(d1.values())\n",
    "l3=set(l1)\n",
    "def splitvalues(l):\n",
    "    return l.split(',')\n",
    "\n",
    "for each in l2:\n",
    "    value.extend(splitvalues(each))\n",
    "l1.extend(value)\n",
    "\n",
    "s1=set(l1)\n",
    "v111=[]\n",
    "keys=['Nick Fury']\n",
    "\n",
    "def findhydra(k):\n",
    "    v111.extend(splitvalues(d1[k]))\n",
    "    \n",
    "        \n",
    "for k,v in d1.items():\n",
    "    if k in keys:\n",
    "        keys.extend(splitvalues(d1[k]))\n",
    "kl=set(keys)\n",
    "y=l3.intersection(kl)\n",
    "\n",
    "for i in y:\n",
    "    findhydra(i)\n",
    "\n",
    "v222=set(v111)\n",
    "print(s1-v222)\n"
   ]
  },
  {
   "cell_type": "code",
   "execution_count": null,
   "metadata": {},
   "outputs": [],
   "source": []
  },
  {
   "cell_type": "code",
   "execution_count": null,
   "metadata": {},
   "outputs": [],
   "source": []
  }
 ],
 "metadata": {
  "kernelspec": {
   "display_name": "Python 3",
   "language": "python",
   "name": "python3"
  },
  "language_info": {
   "codemirror_mode": {
    "name": "ipython",
    "version": 3
   },
   "file_extension": ".py",
   "mimetype": "text/x-python",
   "name": "python",
   "nbconvert_exporter": "python",
   "pygments_lexer": "ipython3",
   "version": "3.8.3"
  }
 },
 "nbformat": 4,
 "nbformat_minor": 4
}
