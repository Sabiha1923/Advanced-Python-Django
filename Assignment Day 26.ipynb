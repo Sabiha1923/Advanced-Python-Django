{
 "cells": [
  {
   "cell_type": "markdown",
   "metadata": {},
   "source": [
    "# Perform the shallow and deep copy experiment\n"
   ]
  },
  {
   "cell_type": "code",
   "execution_count": 1,
   "metadata": {},
   "outputs": [
    {
     "name": "stdout",
     "output_type": "stream",
     "text": [
      "['x', 100, 'uv', 52] #This is list1\n",
      "['x', 100, 'uv', 52] #This is list3\n",
      "1262380740480\n",
      "1262380739456\n"
     ]
    },
    {
     "data": {
      "text/plain": [
       "False"
      ]
     },
     "execution_count": 1,
     "metadata": {},
     "output_type": "execute_result"
    }
   ],
   "source": [
    "#Shallow Copy\n",
    "list1=['x',100,'uv',52]\n",
    "list2=['bhg',221,4,'o']\n",
    "list3=list1[:]\n",
    "print(list1,'#This is list1')\n",
    "print(list3,'#This is list3')\n",
    "print(id(list1))\n",
    "print(id(list3))\n",
    "list3 is list1"
   ]
  },
  {
   "cell_type": "code",
   "execution_count": 2,
   "metadata": {},
   "outputs": [
    {
     "name": "stdout",
     "output_type": "stream",
     "text": [
      "['x', 100, 'uv', 52, 'guard'] #This is appended list1\n",
      "['x', 100, 'uv', 52, 'guard'] #This is list4\n",
      "1262380740480\n",
      "1262381227200\n"
     ]
    },
    {
     "data": {
      "text/plain": [
       "False"
      ]
     },
     "execution_count": 2,
     "metadata": {},
     "output_type": "execute_result"
    }
   ],
   "source": [
    "list1.append('guard')\n",
    "list4=list(list1)\n",
    "print(list1,'#This is appended list1')\n",
    "print(list4,'#This is list4')\n",
    "print(id(list1))\n",
    "print(id(list4))\n",
    "list4 is list1"
   ]
  },
  {
   "cell_type": "code",
   "execution_count": 3,
   "metadata": {},
   "outputs": [
    {
     "name": "stdout",
     "output_type": "stream",
     "text": [
      "[78, 666, ['Halsey']]\n"
     ]
    }
   ],
   "source": [
    "#Deep Copy\n",
    "from copy import deepcopy\n",
    "list5=[78,666,['Halsey']]\n",
    "list6=deepcopy(list5)\n",
    "print(list6)"
   ]
  },
  {
   "cell_type": "code",
   "execution_count": 4,
   "metadata": {},
   "outputs": [
    {
     "name": "stdout",
     "output_type": "stream",
     "text": [
      "[78, 666, ['Halsey'], 600001] #This is appended list5\n",
      "[78, 666, ['Halsey']] #This is list6\n"
     ]
    }
   ],
   "source": [
    "list5.append(600001)\n",
    "print(list5,'#This is appended list5')\n",
    "print(list6,'#This is list6')"
   ]
  },
  {
   "cell_type": "code",
   "execution_count": 5,
   "metadata": {},
   "outputs": [
    {
     "name": "stdout",
     "output_type": "stream",
     "text": [
      "[78, 666, ['Halsey', 'Mr. Park'], 600001] #This is list5\n",
      "[78, 666, ['Halsey']] #This is list6\n"
     ]
    }
   ],
   "source": [
    "list5[2].append('Mr. Park')\n",
    "print(list5,'#This is list5')\n",
    "print(list6,'#This is list6')"
   ]
  },
  {
   "cell_type": "code",
   "execution_count": null,
   "metadata": {},
   "outputs": [],
   "source": []
  }
 ],
 "metadata": {
  "kernelspec": {
   "display_name": "Python 3",
   "language": "python",
   "name": "python3"
  },
  "language_info": {
   "codemirror_mode": {
    "name": "ipython",
    "version": 3
   },
   "file_extension": ".py",
   "mimetype": "text/x-python",
   "name": "python",
   "nbconvert_exporter": "python",
   "pygments_lexer": "ipython3",
   "version": "3.8.3"
  }
 },
 "nbformat": 4,
 "nbformat_minor": 4
}
