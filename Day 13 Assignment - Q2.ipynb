{
 "cells": [
  {
   "cell_type": "markdown",
   "metadata": {},
   "source": [
    "# Day-13 Assignment-2\n"
   ]
  },
  {
   "cell_type": "markdown",
   "metadata": {},
   "source": [
    "# Print the all Possible Paths for a file."
   ]
  },
  {
   "cell_type": "code",
   "execution_count": 7,
   "metadata": {},
   "outputs": [
    {
     "name": "stdout",
     "output_type": "stream",
     "text": [
      "Enter the file name:del7\n",
      "C:\\python\n",
      "--------------------------------------------------\n"
     ]
    }
   ],
   "source": [
    "import os\n",
    "\n",
    "rep=os.walk('C:\\python')\n",
    "d1={}\n",
    "for r,d,f in rep:\n",
    "    for file in f:\n",
    "        d1.setdefault(file,[]).append(r)\n",
    "file_name=input('Enter the file name:')\n",
    "for k,v in d1.items():\n",
    "    if file_name.lower() in k.lower():\n",
    "        for i in v:\n",
    "            print(i)\n",
    "            print('-'*50)"
   ]
  },
  {
   "cell_type": "code",
   "execution_count": null,
   "metadata": {},
   "outputs": [],
   "source": []
  },
  {
   "cell_type": "code",
   "execution_count": null,
   "metadata": {},
   "outputs": [],
   "source": [
    "from configparser import ConfigParser as cp\n",
    "config=cp()\n",
    "config.read('exc.ini')\n",
    "print(config.sections())\n",
    "print(config.options('FC'))\n",
    "import os\n",
    "os.chdir(config.get('FC','file_path'))\n",
    "for file in os.listdir('.'):\n",
    "    if file.endswith(config.get('FC','from')):\n",
    "        first_name=file.rsplit('.',1)[0]\n",
    "        new_name=first_name+config.get('FC','to')\n",
    "        os.rename(file,new_name)\n",
    "        print(file)"
   ]
  }
 ],
 "metadata": {
  "kernelspec": {
   "display_name": "Python 3",
   "language": "python",
   "name": "python3"
  },
  "language_info": {
   "codemirror_mode": {
    "name": "ipython",
    "version": 3
   },
   "file_extension": ".py",
   "mimetype": "text/x-python",
   "name": "python",
   "nbconvert_exporter": "python",
   "pygments_lexer": "ipython3",
   "version": "3.8.3"
  }
 },
 "nbformat": 4,
 "nbformat_minor": 4
}
